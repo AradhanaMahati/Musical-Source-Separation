{
  "nbformat": 4,
  "nbformat_minor": 0,
  "metadata": {
    "colab": {
      "provenance": [],
      "authorship_tag": "ABX9TyNnMMNsTQsGB6ySEH5D56zw",
      "include_colab_link": true
    },
    "kernelspec": {
      "name": "python3",
      "display_name": "Python 3"
    },
    "language_info": {
      "name": "python"
    }
  },
  "cells": [
    {
      "cell_type": "markdown",
      "metadata": {
        "id": "view-in-github",
        "colab_type": "text"
      },
      "source": [
        "<a href=\"https://colab.research.google.com/github/AradhanaMahati/Musical-Source-Separation/blob/main/ICA_v1.ipynb\" target=\"_parent\"><img src=\"https://colab.research.google.com/assets/colab-badge.svg\" alt=\"Open In Colab\"/></a>"
      ]
    },
    {
      "cell_type": "code",
      "source": [
        "from google.colab import drive\n",
        "drive.mount('/content/drive')"
      ],
      "metadata": {
        "id": "eIK9DxzsHoY7",
        "colab": {
          "base_uri": "https://localhost:8080/"
        },
        "outputId": "03c26000-9b18-4dd9-81eb-8fa39571a888"
      },
      "execution_count": 8,
      "outputs": [
        {
          "output_type": "stream",
          "name": "stdout",
          "text": [
            "Drive already mounted at /content/drive; to attempt to forcibly remount, call drive.mount(\"/content/drive\", force_remount=True).\n"
          ]
        }
      ]
    },
    {
      "cell_type": "code",
      "source": [
        "import numpy as np\n",
        "np.random.seed(0)\n",
        "\n",
        "from scipy.io import wavfile as wf\n",
        "import librosa"
      ],
      "metadata": {
        "id": "22rSFx8K1PJi"
      },
      "execution_count": 9,
      "outputs": []
    },
    {
      "cell_type": "code",
      "source": [
        "#guitar-mix2.wav and piano-mix1.wav : both are in D with 100bpm\n",
        "#sound1 size < sound2 size\n",
        "\n",
        "sound1, sr1 = librosa.load(\"/content/drive/MyDrive/audio/drum-mix1.wav\", mono=False)\n",
        "print(sound1.shape)\n",
        "sound1 = librosa.to_mono(sound1)\n",
        "print(sound1.shape)\n",
        "\n",
        "sound2, sr2 = librosa.load(\"/content/drive/MyDrive/audio/guitar-mix1.wav\", mono=False)\n",
        "print(sound2.shape)\n",
        "sound2 = librosa.to_mono(sound2)\n",
        "print(sound2.shape)\n"
      ],
      "metadata": {
        "colab": {
          "base_uri": "https://localhost:8080/"
        },
        "id": "TRZHFj0Igyo-",
        "outputId": "2a09565c-3024-4cd1-a687-f07713783759"
      },
      "execution_count": 10,
      "outputs": [
        {
          "output_type": "stream",
          "name": "stdout",
          "text": [
            "(2, 336856)\n",
            "(336856,)\n",
            "(2, 423360)\n",
            "(423360,)\n"
          ]
        }
      ]
    },
    {
      "cell_type": "code",
      "source": [
        "def mix_sources(sources, apply_noise=False):\n",
        "  for i in range(len(sources)):\n",
        "      max_val = np.max(sources[i])\n",
        "      if(max_val > 1 or np.min(sources[i]) < 1):\n",
        "          sources[i] = sources[i] / (max_val / 2) - 0.5\n",
        "\n",
        "  mixture = np.c_[[source for source in sources]]\n",
        "\n",
        "  if(apply_noise):\n",
        "      mixture += 0.02 * np.random.normal(size=mixture.shape)\n",
        "\n",
        "  return mixture\n",
        "\n",
        "\n",
        "x = mix_sources([sound1, sound2[:sound1.shape[0]]], False)\n",
        "print(f'Shape of sound1: {sound1.shape}, sound2: {sound1.shape}, Linear Mix: {x.shape}')\n",
        "#wf.write('/content/drive/MyDrive/audio/drum&guitar_mix1.wav', sr2, x.mean(axis=0).astype(np.float32))"
      ],
      "metadata": {
        "colab": {
          "base_uri": "https://localhost:8080/"
        },
        "id": "_184YWFwg9IT",
        "outputId": "d14bba05-314f-4512-e7ae-5b449ad840e8"
      },
      "execution_count": 11,
      "outputs": [
        {
          "output_type": "stream",
          "name": "stdout",
          "text": [
            "Shape of sound1: (336856,), sound2: (336856,), Linear Mix: (2, 336856)\n"
          ]
        }
      ]
    },
    {
      "cell_type": "code",
      "source": [],
      "metadata": {
        "id": "sGMYIt6txF9_"
      },
      "execution_count": null,
      "outputs": []
    },
    {
      "cell_type": "code",
      "source": [
        "def center(x):\n",
        "    x = np.array(x)\n",
        "    return x - x.mean(axis=1, keepdims=True)\n",
        "\n",
        "def whiten(x):\n",
        "  eigen_values, eigen_vectors = np.linalg.eigh(np.cov(x))\n",
        "  D = np.diag(eigen_values)\n",
        "  sqrt_inverse_D = np.sqrt(np.linalg.inv(D))\n",
        "  x_whiten = eigen_vectors @ (sqrt_inverse_D @ (eigen_vectors.T @ x))\n",
        "\n",
        "  print(f'Shape of Eigen Values: {eigen_values.shape}, Eigen Vectors: {eigen_vectors.shape}, Whitened Data: {x_whiten.shape}')\n",
        "\n",
        "  return x_whiten, D, eigen_vectors\n",
        "\n",
        "\n",
        "X_whiten, D, E = whiten(center(x))\n",
        "print(\"D: \",D)\n",
        "print()\n",
        "print(\"E: \",E)"
      ],
      "metadata": {
        "colab": {
          "base_uri": "https://localhost:8080/"
        },
        "id": "5OevbF7dwH4s",
        "outputId": "186c9d4d-aa21-48d7-ec6f-194e784bfb1d"
      },
      "execution_count": 12,
      "outputs": [
        {
          "output_type": "stream",
          "name": "stdout",
          "text": [
            "Shape of Eigen Values: (2,), Eigen Vectors: (2, 2), Whitened Data: (2, 336856)\n",
            "D:  [[0.10990851 0.        ]\n",
            " [0.         0.34631188]]\n",
            "\n",
            "E:  [[-0.00487041 -0.99998814]\n",
            " [-0.99998814  0.00487041]]\n"
          ]
        }
      ]
    },
    {
      "cell_type": "code",
      "source": [
        "def objFunc(x):\n",
        "    return np.tanh(x)\n",
        "\n",
        "def dObjFunc(x):\n",
        "    return 1 - (objFunc(x) ** 2)\n",
        "\n",
        "def calc_w_hat(W, X):\n",
        "    # Implementation of the eqn. Towards Convergence\n",
        "    w_hat = (X * objFunc(W.T @ X)).mean(axis=1) - dObjFunc(W.T @ X).mean() * W\n",
        "    w_hat /= np.sqrt((w_hat ** 2).sum())\n",
        "\n",
        "    return w_hat"
      ],
      "metadata": {
        "id": "Kdhn9Pe5tmJY"
      },
      "execution_count": 13,
      "outputs": []
    },
    {
      "cell_type": "code",
      "source": [
        "def ica(X, iterations, tolerance=1e-5):\n",
        "    num_components = X.shape[0]\n",
        "\n",
        "    W = np.zeros((num_components, num_components), dtype=X.dtype)\n",
        "    distances = {i: [] for i in range(num_components)}\n",
        "\n",
        "    for i in np.arange(num_components):\n",
        "        w = np.random.rand(num_components)\n",
        "        for j in np.arange(iterations):\n",
        "            w_new = calc_w_hat(w, X)\n",
        "            if(i >= 1):\n",
        "                w_new -= np.dot(np.dot(w_new, W[:i].T), W[:i])\n",
        "            distance = np.abs(np.abs((w * w_new).sum()) - 1)\n",
        "\n",
        "            w = w_new\n",
        "            if(distance < tolerance):\n",
        "                print(f'Convergence attained for the {i+1}/{num_components} component.')\n",
        "                print(f'Component: {i+1}/{num_components}, Step: {j}/{iterations}, Distance: {distance}\\n')\n",
        "\n",
        "                break;\n",
        "\n",
        "            distances[i].append(distance)\n",
        "\n",
        "            if(j % 50 == 0):\n",
        "                print(f'Component: {i+1}/{num_components}, Step: {j}/{iterations}, Distance: {distance}')\n",
        "\n",
        "\n",
        "\n",
        "        W[i, :] = w\n",
        "    S = np.dot(W, X)\n",
        "\n",
        "    return S, distances\n",
        "\n",
        "S, distances = ica(X_whiten, iterations=100)\n",
        "wf.write('/content/drive/MyDrive/audio/guitar-mix1_predicted.wav', sr1, S[0].astype(np.float32))\n",
        "wf.write('/content/drive/MyDrive/audio/drum-mix1_predicted.wav', sr2, S[1].astype(np.float32))"
      ],
      "metadata": {
        "colab": {
          "base_uri": "https://localhost:8080/"
        },
        "id": "zz6N7lMxtvDc",
        "outputId": "cb5fb012-38e0-4b2c-fd38-39617275027f"
      },
      "execution_count": 14,
      "outputs": [
        {
          "output_type": "stream",
          "name": "stdout",
          "text": [
            "Component: 1/2, Step: 0/100, Distance: 0.21744583017916386\n",
            "Convergence attained for the 1/2 component.\n",
            "Component: 1/2, Step: 3/100, Distance: 4.65189372578223e-08\n",
            "\n",
            "Component: 2/2, Step: 0/100, Distance: 0.8167487256570896\n",
            "Component: 2/2, Step: 50/100, Distance: 0.0002113583254977902\n"
          ]
        }
      ]
    }
  ]
}